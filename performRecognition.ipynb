{
 "cells": [
  {
   "cell_type": "code",
   "execution_count": 1,
   "metadata": {},
   "outputs": [
    {
     "name": "stderr",
     "output_type": "stream",
     "text": [
      "Using TensorFlow backend.\n",
      "/usr/local/lib/python3.5/dist-packages/keras/engine/topology.py:1242: UserWarning: Update your `Conv2D` call to the Keras 2 API: `Conv2D(activation=\"linear\", strides=[1, 1], use_bias=True, filters=16, padding=\"valid\", activity_regularizer=None, kernel_size=(3, 3), bias_constraint=None, data_format=\"channels_first\", name=\"convolution2d_13\", input_dtype=\"float32\", kernel_initializer=\"glorot_uniform\", kernel_regularizer=None, bias_regularizer=None, kernel_constraint=None, batch_input_shape=[None, 1, ..., trainable=True)`\n",
      "  return cls(**config)\n",
      "/usr/local/lib/python3.5/dist-packages/keras/engine/topology.py:1242: UserWarning: Update your `Conv2D` call to the Keras 2 API: `Conv2D(activation=\"linear\", strides=[1, 1], use_bias=True, filters=16, activity_regularizer=None, kernel_size=(3, 3), bias_constraint=None, data_format=\"channels_first\", padding=\"valid\", name=\"convolution2d_14\", trainable=True, kernel_initializer=\"glorot_uniform\", kernel_regularizer=None, bias_regularizer=None, kernel_constraint=None)`\n",
      "  return cls(**config)\n",
      "/usr/local/lib/python3.5/dist-packages/keras/engine/topology.py:1242: UserWarning: Update your `MaxPooling2D` call to the Keras 2 API: `MaxPooling2D(data_format=\"channels_first\", name=\"maxpooling2d_10\", trainable=True, padding=\"valid\", pool_size=[2, 2], strides=[2, 2])`\n",
      "  return cls(**config)\n",
      "/usr/local/lib/python3.5/dist-packages/keras/engine/topology.py:1242: UserWarning: Update your `Dropout` call to the Keras 2 API: `Dropout(name=\"dropout_5\", trainable=True, rate=0.25)`\n",
      "  return cls(**config)\n",
      "/usr/local/lib/python3.5/dist-packages/keras/engine/topology.py:1242: UserWarning: Update your `Dense` call to the Keras 2 API: `Dense(activity_regularizer=None, bias_constraint=None, activation=\"linear\", use_bias=True, name=\"dense_17\", trainable=True, kernel_initializer=\"glorot_uniform\", kernel_regularizer=None, bias_regularizer=None, kernel_constraint=None, units=128, input_dim=None)`\n",
      "  return cls(**config)\n",
      "/usr/local/lib/python3.5/dist-packages/keras/engine/topology.py:1242: UserWarning: Update your `Dropout` call to the Keras 2 API: `Dropout(name=\"dropout_6\", trainable=True, rate=0.5)`\n",
      "  return cls(**config)\n",
      "/usr/local/lib/python3.5/dist-packages/keras/engine/topology.py:1242: UserWarning: Update your `Dense` call to the Keras 2 API: `Dense(activity_regularizer=None, bias_constraint=None, activation=\"linear\", use_bias=True, name=\"dense_18\", trainable=True, kernel_initializer=\"glorot_uniform\", kernel_regularizer=None, bias_regularizer=None, kernel_constraint=None, units=10, input_dim=None)`\n",
      "  return cls(**config)\n"
     ]
    },
    {
     "name": "stdout",
     "output_type": "stream",
     "text": [
      "[[125 125 126 ..., 129 129 129]\n",
      " [125 125 126 ..., 128 128 128]\n",
      " [125 125 127 ..., 128 128 128]\n",
      " ..., \n",
      " [ 97  97  97 ..., 104 105 106]\n",
      " [ 98  98  98 ..., 104 105 105]\n",
      " [ 98  98  98 ..., 104 105 105]]\n",
      "[[0 0 0 ..., 0 0 0]\n",
      " [0 0 0 ..., 0 0 0]\n",
      " [0 0 0 ..., 0 0 0]\n",
      " ..., \n",
      " [0 0 0 ..., 0 0 0]\n",
      " [0 0 0 ..., 0 0 0]\n",
      " [0 0 0 ..., 0 0 0]]\n",
      "[[0 0 0 ..., 0 0 0]\n",
      " [0 0 0 ..., 0 0 0]\n",
      " [0 0 0 ..., 0 0 0]\n",
      " ..., \n",
      " [0 0 0 ..., 0 0 0]\n",
      " [0 0 0 ..., 0 0 0]\n",
      " [0 0 0 ..., 0 0 0]]\n"
     ]
    },
    {
     "ename": "error",
     "evalue": "/home/tanmay-edgelord/OpenCV/modules/imgproc/src/imgwarp.cpp:3492: error: (-215) ssize.width > 0 && ssize.height > 0 in function resize\n",
     "output_type": "error",
     "traceback": [
      "\u001b[0;31m---------------------------------------------------------------------------\u001b[0m",
      "\u001b[0;31merror\u001b[0m                                     Traceback (most recent call last)",
      "\u001b[0;32m<ipython-input-1-e54c9d8e231f>\u001b[0m in \u001b[0;36m<module>\u001b[0;34m()\u001b[0m\n\u001b[1;32m     59\u001b[0m     \u001b[0mroi\u001b[0m \u001b[0;34m=\u001b[0m \u001b[0mim_th\u001b[0m\u001b[0;34m[\u001b[0m\u001b[0mpt1\u001b[0m\u001b[0;34m:\u001b[0m\u001b[0mpt1\u001b[0m\u001b[0;34m+\u001b[0m\u001b[0mleng\u001b[0m\u001b[0;34m,\u001b[0m \u001b[0mpt2\u001b[0m\u001b[0;34m:\u001b[0m\u001b[0mpt2\u001b[0m\u001b[0;34m+\u001b[0m\u001b[0mleng\u001b[0m\u001b[0;34m]\u001b[0m\u001b[0;34m\u001b[0m\u001b[0m\n\u001b[1;32m     60\u001b[0m         \u001b[0;31m# Resize the image\u001b[0m\u001b[0;34m\u001b[0m\u001b[0;34m\u001b[0m\u001b[0m\n\u001b[0;32m---> 61\u001b[0;31m     \u001b[0mroi\u001b[0m \u001b[0;34m=\u001b[0m \u001b[0mcv2\u001b[0m\u001b[0;34m.\u001b[0m\u001b[0mresize\u001b[0m\u001b[0;34m(\u001b[0m\u001b[0mroi\u001b[0m\u001b[0;34m,\u001b[0m \u001b[0;34m(\u001b[0m\u001b[0;36m28\u001b[0m\u001b[0;34m,\u001b[0m \u001b[0;36m28\u001b[0m\u001b[0;34m)\u001b[0m\u001b[0;34m,\u001b[0m \u001b[0minterpolation\u001b[0m\u001b[0;34m=\u001b[0m\u001b[0mcv2\u001b[0m\u001b[0;34m.\u001b[0m\u001b[0mINTER_AREA\u001b[0m\u001b[0;34m)\u001b[0m\u001b[0;34m\u001b[0m\u001b[0m\n\u001b[0m\u001b[1;32m     62\u001b[0m \u001b[0;34m\u001b[0m\u001b[0m\n\u001b[1;32m     63\u001b[0m         \u001b[0;31m# Input for CNN Model\u001b[0m\u001b[0;34m\u001b[0m\u001b[0;34m\u001b[0m\u001b[0m\n",
      "\u001b[0;31merror\u001b[0m: /home/tanmay-edgelord/OpenCV/modules/imgproc/src/imgwarp.cpp:3492: error: (-215) ssize.width > 0 && ssize.height > 0 in function resize\n"
     ]
    }
   ],
   "source": [
    "# Import the modules\n",
    "import cv2\n",
    "from sklearn.externals import joblib\n",
    "import numpy as np\n",
    "import sys, getopt\n",
    "from keras.models import load_model\n",
    "    # Load the Keras CNN trained model\n",
    "model = load_model('cDigit1.h5')\n",
    "inp_pic = \"Digit1.jpg\"\n",
    "    # Original image\n",
    "im = cv2.imread(inp_pic)\n",
    "cv2.imshow(\"Original Image\", im)\n",
    "cv2.waitKey()\n",
    "cv2.destroyAllWindows()\n",
    "\n",
    "    # Read image in grayscale mode\n",
    "img = cv2.imread(inp_pic,0)\n",
    "    \n",
    "    # Median Blur and Gaussian Blur to remove Noise\n",
    "img = cv2.medianBlur(img,3)\n",
    "img = cv2.GaussianBlur(img, (5, 5), 0)\n",
    "print(img)\n",
    "\n",
    "    # Adaptive Threshold for handling lightning\n",
    "im_th = cv2.adaptiveThreshold(img,255,cv2.ADAPTIVE_THRESH_GAUSSIAN_C,cv2.THRESH_BINARY_INV,11,5)\n",
    "print(im_th)\n",
    "    # cv2.imshow(\"Threshold Image\",im_th)\n",
    "kernel = np.ones((1,1),np.uint8) \n",
    "im_th = cv2.dilate(im_th,kernel,iterations = 4)\n",
    "print(im_th)\n",
    "cv2.imshow(\"After\", im_th)\n",
    "cv2.destroyAllWindows()\n",
    "    ##################################################################################################\n",
    "\n",
    "\n",
    "    # Find contours in the image\n",
    "ctrs, hier, _ = cv2.findContours(im_th.copy(), cv2.RETR_EXTERNAL, cv2.CHAIN_APPROX_SIMPLE)\n",
    "\n",
    "    # Get rectangles contains each contour\n",
    "rects = [cv2.boundingRect(ctr) for ctr in ctrs]\n",
    "    # For each rectangular region, predict using cnn model\n",
    "for rect in rects:\n",
    "        # Draw the rectangles\n",
    "    cv2.rectangle(im, (rect[0], rect[1]), (rect[0] + rect[2], rect[1] + rect[3]), (0, 255, 0), 3) \n",
    "        # Make the rectangular region around the digit\n",
    "    leng = int(rect[3] * 1.6)\n",
    "    pt1 = int(rect[1] + rect[3] // 2 - leng // 2)\n",
    "    pt2 = int(rect[0] + rect[2] // 2 - leng // 2)\n",
    "    roi = im_th[pt1:pt1+leng, pt2:pt2+leng]\n",
    "        # Resize the image\n",
    "    roi = cv2.resize(roi, (28, 28), interpolation=cv2.INTER_AREA)\n",
    "        \n",
    "        # Input for CNN Model\n",
    "    roi = roi[np.newaxis,np.newaxis,:,:]\n",
    "\n",
    "        # Input for Feed Forward Model\n",
    "        # roi = roi.flatten()\n",
    "        # roi = roi[np.newaxis]\n",
    "    nbr = model.predict_classes(roi,verbose=0)\n",
    "    cv2.putText(im, str(int(nbr[0])), (int(rect[0]), int(rect[1])),cv2.FONT_HERSHEY_DUPLEX, 2, (0, 255, 255), 3)\n",
    "\n",
    "cv2.imshow(\"Resulting Image with Predicted numbers\", im)\n",
    "cv2.waitKey()\n",
    "\n",
    "if __name__ == \"__main__\":\n",
    "   main(sys.argv[1:])"
   ]
  },
  {
   "cell_type": "code",
   "execution_count": null,
   "metadata": {
    "collapsed": true
   },
   "outputs": [],
   "source": []
  },
  {
   "cell_type": "code",
   "execution_count": null,
   "metadata": {
    "collapsed": true
   },
   "outputs": [],
   "source": []
  }
 ],
 "metadata": {
  "kernelspec": {
   "display_name": "Python 3",
   "language": "python",
   "name": "python3"
  },
  "language_info": {
   "codemirror_mode": {
    "name": "ipython",
    "version": 3
   },
   "file_extension": ".py",
   "mimetype": "text/x-python",
   "name": "python",
   "nbconvert_exporter": "python",
   "pygments_lexer": "ipython3",
   "version": "3.5.2"
  }
 },
 "nbformat": 4,
 "nbformat_minor": 2
}
