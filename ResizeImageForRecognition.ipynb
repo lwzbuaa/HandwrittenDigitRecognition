{
 "cells": [
  {
   "cell_type": "code",
   "execution_count": 1,
   "metadata": {},
   "outputs": [
    {
     "name": "stdout",
     "output_type": "stream",
     "text": [
      "(480, 640)\n"
     ]
    }
   ],
   "source": [
    "import cv2\n",
    "file1 = \"/home/tanmay/Desktop/test_image1.png\"\n",
    "file = \"/home/tanmay/Desktop/test_image.png\"\n",
    "img = cv2.imread(file , 0)\n",
    "print(img.shape)\n"
   ]
  },
  {
   "cell_type": "code",
   "execution_count": 2,
   "metadata": {
    "collapsed": true
   },
   "outputs": [],
   "source": [
    "import numpy as np"
   ]
  },
  {
   "cell_type": "code",
   "execution_count": 3,
   "metadata": {},
   "outputs": [],
   "source": [
    "newimg = np.zeros((644,644) , dtype = 'uint8')\n",
    "for i in range(0 , img.shape[0]):\n",
    "    newimg[i , :img.shape[1]] = img[ i , :]\n",
    "cv2.imshow('img' , newimg)\n",
    "k = 0\n",
    "k = cv2.waitKey(0)\n",
    "if k == 27:\n",
    "    cv2.destroyWindow('img')\n",
    "\n",
    "resize_img = cv2.resize(newimg  , (280 , 280) , interpolation = cv2.INTER_AREA)\n",
    "cv2.imshow('img' , resize_img)\n",
    "cv2.imwrite(file1 , resize_img)\n",
    "k = 0\n",
    "k = cv2.waitKey(0)\n",
    "if k == 27:\n",
    "     cv2.destroyWindow('img')\n"
   ]
  },
  {
   "cell_type": "code",
   "execution_count": null,
   "metadata": {
    "collapsed": true
   },
   "outputs": [],
   "source": []
  }
 ],
 "metadata": {
  "kernelspec": {
   "display_name": "Python 3",
   "language": "python",
   "name": "python3"
  },
  "language_info": {
   "codemirror_mode": {
    "name": "ipython",
    "version": 3
   },
   "file_extension": ".py",
   "mimetype": "text/x-python",
   "name": "python",
   "nbconvert_exporter": "python",
   "pygments_lexer": "ipython3",
   "version": "3.5.2"
  }
 },
 "nbformat": 4,
 "nbformat_minor": 2
}
